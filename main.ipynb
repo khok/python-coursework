{
 "cells": [
  {
   "cell_type": "markdown",
   "metadata": {},
   "source": [
    "Подгружаем токенайзер по предложениям, TermExtractor и регулярки"
   ]
  },
  {
   "cell_type": "code",
   "execution_count": 1,
   "metadata": {},
   "outputs": [],
   "source": [
    "from nltk import sent_tokenize\n",
    "# import nltk\n",
    "# nltk.download('punkt')\n",
    "from rtm.rutermextract import TermExtractor\n",
    "import re\n",
    "from latex import escape"
   ]
  },
  {
   "cell_type": "markdown",
   "metadata": {},
   "source": [
    "Разбиение текста на параграфы"
   ]
  },
  {
   "cell_type": "code",
   "execution_count": 2,
   "metadata": {},
   "outputs": [],
   "source": [
    "def handle_text(text):\n",
    "    try:\n",
    "        return \"\\n\".join(transform_paragraph(p) for p in text.split(\"\\n\"))\n",
    "    finally:\n",
    "        close_downloader()"
   ]
  },
  {
   "cell_type": "markdown",
   "metadata": {},
   "source": [
    "Обработка параграфа"
   ]
  },
  {
   "cell_type": "code",
   "execution_count": 3,
   "metadata": {},
   "outputs": [],
   "source": [
    "def transform_paragraph(p):\n",
    "    image_pars = \"\"\n",
    "    output_text = \"\"\n",
    "    \n",
    "    for sent in sent_tokenize(p, 'russian'):\n",
    "        new_sent, latex = transform_sent(sent)\n",
    "        output_text += new_sent + \" \"\n",
    "        if latex: image_pars += \"\\n\" + latex\n",
    "\n",
    "    return output_text + image_pars"
   ]
  },
  {
   "cell_type": "markdown",
   "metadata": {},
   "source": [
    "Обработка предложения"
   ]
  },
  {
   "cell_type": "code",
   "execution_count": 4,
   "metadata": {},
   "outputs": [],
   "source": [
    "unique_idx = 0 #лучше использовать UUID, но и это подойдет.\n",
    "    \n",
    "term_extractor = TermExtractor(ranker=lambda terms, weight: terms)\n",
    "def transform_sent(sent):\n",
    "    global unique_idx\n",
    "    sent_terms = term_extractor(sent)\n",
    "    if len(sent_terms) < 2 or not terms_contain_trigger(sent_terms): return sent, None\n",
    "\n",
    "    img_file = \"image%s\" % str(unique_idx)\n",
    "    unique_idx += 1\n",
    "\n",
    "    context = extract_context(sent_terms)\n",
    "\n",
    "    download_image(context, img_file)\n",
    "    tex_text = create_tex_image(context, img_file)\n",
    "\n",
    "    img_ref = \"fig:%s\" % img_file\n",
    "    return insert_ref(sent, img_ref), tex_text"
   ]
  },
  {
   "cell_type": "markdown",
   "metadata": {},
   "source": [
    "Проверка, содержит ли список термов слово-триггер"
   ]
  },
  {
   "cell_type": "code",
   "execution_count": 5,
   "metadata": {},
   "outputs": [],
   "source": [
    "def terms_contain_trigger(sent_terms):\n",
    "    for term in sent_terms:\n",
    "        if \"рисунок\" in term.normalized:\n",
    "            return True\n",
    "    return False"
   ]
  },
  {
   "cell_type": "markdown",
   "metadata": {},
   "source": [
    "Извлечение описания рисунка из списка термов"
   ]
  },
  {
   "cell_type": "code",
   "execution_count": 6,
   "metadata": {},
   "outputs": [],
   "source": [
    "def extract_context(sent_terms):\n",
    "    # 1) Как показано на рисунке 1, <keyword> ... . Порядок термов: [рисунок, keyword]\n",
    "    if \"рисунок\" in sent_terms[0].normalized:\n",
    "        ret = sent_terms[1].normalized\n",
    "        return ret\n",
    "#         return ret if len(sent_terms) < 3 else ret + \" \" + sent_terms[2].normalized\n",
    "    \n",
    "    # 2) ... <keyword>, что показано на рисунке 1. Порядок термов: [..., keyword, рисунок]\n",
    "    for i in range(1, len(sent_terms)):\n",
    "        if \"рисунок\" in sent_terms[i].normalized:\n",
    "            ret = sent_terms[i - 1].normalized\n",
    "            return ret\n",
    "#             return ret if i - 1 == 0 else sent_terms[i - 2].normalized + \" \" + ret\n",
    "\n",
    "    raise Exception(\"здесь оказаться не должны\")"
   ]
  },
  {
   "cell_type": "markdown",
   "metadata": {},
   "source": [
    "Вставка ссылки в предложение"
   ]
  },
  {
   "cell_type": "code",
   "execution_count": 7,
   "metadata": {},
   "outputs": [],
   "source": [
    "def insert_ref(sent, img_ref):\n",
    "    match = re.search(r\"(рисун(ок|ке|ка))\", sent, re.IGNORECASE)\n",
    "    return sent[:match.end(0)] + \" \\\\ref{%s}\" % escape(img_ref) + sent[match.end(0):]"
   ]
  },
  {
   "cell_type": "markdown",
   "metadata": {},
   "source": [
    "Вставка рисунка, используя $\\LaTeX$ - макрос"
   ]
  },
  {
   "cell_type": "code",
   "execution_count": 8,
   "metadata": {},
   "outputs": [],
   "source": [
    "def create_tex_image(context, img_file):\n",
    "    return \"\\\\insertimage{%s}{%s}\" %  (escape(img_file), context.capitalize())"
   ]
  },
  {
   "cell_type": "markdown",
   "metadata": {},
   "source": [
    "Загрузка картинок. Ее можно временно отключить при помощи `disable_dwnld`"
   ]
  },
  {
   "cell_type": "code",
   "execution_count": 9,
   "metadata": {},
   "outputs": [],
   "source": [
    "disable_dwnld = False\n",
    "if not disable_dwnld:\n",
    "    from yaimages.yandex_images_download.downloader import YandexImagesDownloader\n",
    "    downloader = YandexImagesDownloader(output_directory=\"images/\")\n",
    "def download_image(context, img_file):\n",
    "    if disable_dwnld: return\n",
    "    downloader.download_images_by_keyword(context, img_file)\n",
    "def close_downloader():\n",
    "    if disable_dwnld: return\n",
    "    downloader.driver.quit()"
   ]
  },
  {
   "cell_type": "markdown",
   "metadata": {},
   "source": [
    "Запуск программы"
   ]
  },
  {
   "cell_type": "code",
   "execution_count": 10,
   "metadata": {},
   "outputs": [
    {
     "name": "stdout",
     "output_type": "stream",
     "text": [
      "Показанный на рисунке \\ref{fig:image0} гидродинамический удар естественно подрывает смысл жизни. Созерцание, в первом приближении, рефлектирует закон внешнего мира. Принцип восприятия, если рассматривать процессы в рамках специальной теории относительности, ясен не всем. Вселенная естественно порождает и обеспечивает атом. \n",
      "\\insertimage{image0}{Гидродинамический удар}\n",
      "\n",
      "Кристаллическая решетка индуцирует внутримолекулярный гидродинамический удар. Очевидно, что тело непредсказуемо. Расслоение заполняет субъективный магнит \n",
      "\n",
      "Химическое соединение, как следует из совокупности экспериментальных наблюдений, методологически представляет собой короткоживущий дуализм. Надстройка транспонирует гений. Изолируя область наблюдения от посторонних шумов, мы сразу увидим, что вихрь квантово разрешен. \n",
      "\n",
      "Любое возмущение затухает, если гений контролирует гидродинамический удар. Погранслой нетривиален. Химическое соединение осмысляет коллапсирующий бозе-конденсат, изображенный на рисунке \\ref{fig:image1}. \n",
      "\\insertimage{image1}{Коллапсирующий бозе-конденсат}\n",
      "\n",
      "При погружении в жидкий кислород сверхновая отталкивает фронт. Взвесь творит онтологический даосизм. Боль, как бы это ни казалось парадоксальным, индуктивно дискредитирует изобарический пульсар. Пример изобарического пульсара показан на рисунке \\ref{fig:image2}. \n",
      "\\insertimage{image2}{Изобарический пульсар}\n",
      "\n",
      "Если предварительно подвергнуть объекты длительному вакуумированию, структурализм заполняет фронт при любом агрегатном состоянии среды взаимодействия. Апостериори, катарсис нетривиален. Вероятностная логика, как бы это ни казалось парадоксальным, индуктивно дискредитирует термодинамический квант. Излучение виртуально. Взрыв недетерминировано транспонирует плазменный закон внешнего мира. \n"
     ]
    }
   ],
   "source": [
    "with open('input.txt', encoding=\"utf8\") as f:\n",
    "    text = handle_text(f.read())\n",
    "    print(text)\n",
    "    with open('output.tex', encoding=\"utf8\", mode=\"w\") as f:\n",
    "        f.write(text)"
   ]
  }
 ],
 "metadata": {
  "file_extension": ".py",
  "kernelspec": {
   "display_name": "Python 3.7.4 64-bit",
   "language": "python",
   "name": "python37464bit7ae984334414462f931d2d3b0839ab4e"
  },
  "language_info": {
   "codemirror_mode": {
    "name": "ipython",
    "version": 3
   },
   "file_extension": ".py",
   "mimetype": "text/x-python",
   "name": "python",
   "nbconvert_exporter": "python",
   "pygments_lexer": "ipython3",
   "version": "3.7.4"
  },
  "mimetype": "text/x-python",
  "name": "python",
  "npconvert_exporter": "python",
  "pygments_lexer": "ipython3",
  "version": 3
 },
 "nbformat": 4,
 "nbformat_minor": 2
}
